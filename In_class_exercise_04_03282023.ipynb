{
  "cells": [
    {
      "cell_type": "markdown",
      "metadata": {
        "id": "NDBsSpc3mGXd"
      },
      "source": [
        "# **The fourth in-class-exercise (40 points in total, 03/28/2022)**"
      ]
    },
    {
      "cell_type": "markdown",
      "metadata": {
        "id": "c5DjM5DamGXn"
      },
      "source": [
        "Question description: Please use the text corpus you collected in your last in-class-exercise for this exercise. Perform the following tasks:"
      ]
    },
    {
      "cell_type": "markdown",
      "metadata": {
        "id": "rdkSGec1mGXo"
      },
      "source": [
        "## (1) (10 points) Generate K topics by using LDA, the number of topics K should be decided by the coherence score, then summarize what are the topics. You may refer the code here: \n",
        "\n",
        "https://www.machinelearningplus.com/nlp/topic-modeling-gensim-python/"
      ]
    },
    {
      "cell_type": "code",
      "execution_count": null,
      "metadata": {
        "id": "Hjh_gQZ0mGXp",
        "colab": {
          "base_uri": "https://localhost:8080/"
        },
        "outputId": "35b8c99b-0c93-43af-839b-b8d4b7850a86"
      },
      "outputs": [
        {
          "output_type": "stream",
          "name": "stderr",
          "text": [
            "[nltk_data] Downloading package stopwords to /root/nltk_data...\n",
            "[nltk_data]   Package stopwords is already up-to-date!\n"
          ]
        },
        {
          "output_type": "stream",
          "name": "stdout",
          "text": [
            "Number of topics: 2, Coherence Score: 0.3896\n",
            "Number of topics: 3, Coherence Score: 0.4438\n",
            "Number of topics: 4, Coherence Score: 0.4924\n",
            "Number of topics: 5, Coherence Score: 0.5061\n",
            "Number of topics: 6, Coherence Score: 0.5087\n",
            "Number of topics: 7, Coherence Score: 0.5202\n",
            "Number of topics: 8, Coherence Score: 0.5216\n",
            "Number of topics: 9, Coherence Score: 0.5266\n",
            "Optimal Number of Topics: 9\n",
            "Topic 0: ['recommend', 'anyone', 'would', 'terrible', 'service', 'analysis', 'course', 'great', 'text', 'okay']\n",
            "Topic 1: ['course', 'recommend', 'great', 'okay', 'text', 'service', 'food', 'nothing', 'analysis', 'special']\n",
            "Topic 2: ['okay', 'great', 'text', 'always', 'food', 'recommend', 'course', 'products', 'analysis', 'service']\n",
            "Topic 3: ['food', 'special', 'nothing', 'okay', 'recommend', 'text', 'analysis', 'service', 'products', 'great']\n",
            "Topic 4: ['quality', 'love', 'brand', 'products', 'always', 'great', 'course', 'food', 'text', 'nothing']\n",
            "Topic 5: ['okay', 'text', 'special', 'recommend', 'analysis', 'brand', 'service', 'course', 'food', 'products']\n",
            "Topic 6: ['analysis', 'text', 'okay', 'great', 'food', 'would', 'recommend', 'terrible', 'course', 'products']\n",
            "Topic 7: ['great', 'okay', 'analysis', 'course', 'text', 'recommend', 'special', 'nothing', 'service', 'food']\n",
            "Topic 8: ['tried', 'crust', 'fresh', 'highly', 'place', 'toppings', 'perfectly', 'crispy', 'town', 'delicious']\n"
          ]
        }
      ],
      "source": [
        "import gensim\n",
        "from gensim.utils import simple_preprocess\n",
        "from gensim.models import CoherenceModel\n",
        "import numpy as np\n",
        "import pandas as pd\n",
        "import nltk\n",
        "nltk.download('stopwords')\n",
        "from nltk.corpus import stopwords\n",
        "\n",
        "Sample_reviews = [    \"TI ❤️👍 NLP and text analysis! 😃 This is a great course. 👌\",    \n",
        "                  \"The service was terrible. I would not recommend it to anyone.\",    \n",
        "                  \"The food was okay. Nothing special.\",   \n",
        "                  \"I love this brand. Their products are always top quality.\",    \n",
        "                  \"I just tried the new 🍕 from that new place in town and it was 😋👌! The crust was perfectly crispy and the toppings were fresh and delicious. 🙌🏼 Highly recommend!\"]\n",
        "\n",
        "# Preprocessing the data\n",
        "stop_words = stopwords.words('english')\n",
        "stop_words.extend(['from', 'subject', 're', 'edu', 'use'])\n",
        "\n",
        "def preprocess(text):\n",
        "    result = []\n",
        "    for token in simple_preprocess(text):\n",
        "        if token not in stop_words and len(token) > 3:\n",
        "            result.append(token)\n",
        "    return result\n",
        "\n",
        "processed_docs = [preprocess(doc) for doc in Sample_reviews]\n",
        "\n",
        "# Creating the dictionary and corpus\n",
        "dictionary = gensim.corpora.Dictionary(processed_docs)\n",
        "corpus = [dictionary.doc2bow(doc) for doc in processed_docs]\n",
        "\n",
        "# Building the LDA model\n",
        "coherence_scores = []\n",
        "for num_topics in range(2, 10):\n",
        "    lda_model = gensim.models.LdaModel(corpus=corpus,\n",
        "                                       id2word=dictionary,\n",
        "                                       num_topics=num_topics,\n",
        "                                       random_state=42,\n",
        "                                       update_every=1,\n",
        "                                       passes=10,\n",
        "                                       alpha='auto',\n",
        "                                       per_word_topics=True)\n",
        "    coherence_model_lda = CoherenceModel(model=lda_model,\n",
        "                                         texts=processed_docs,\n",
        "                                         dictionary=dictionary,\n",
        "                                         coherence='c_v')\n",
        "    coherence_lda = coherence_model_lda.get_coherence()\n",
        "    coherence_scores.append(coherence_lda)\n",
        "    print(f'Number of topics: {num_topics}, Coherence Score: {coherence_lda:.4f}')\n",
        "\n",
        "# Choosing the optimal number of topics based on coherence score\n",
        "optimal_num_topics = np.argmax(coherence_scores) + 2\n",
        "print(f'Optimal Number of Topics: {optimal_num_topics}')\n",
        "\n",
        "# Final LDA model\n",
        "lda_model = gensim.models.LdaModel(corpus=corpus,\n",
        "                                   id2word=dictionary,\n",
        "                                   num_topics=optimal_num_topics,\n",
        "                                   random_state=42,\n",
        "                                   update_every=1,\n",
        "                                   passes=10,\n",
        "                                   alpha='auto',\n",
        "                                   per_word_topics=True)\n",
        "\n",
        "# Printing the topics\n",
        "topics = lda_model.show_topics(num_topics=-1, num_words=10, formatted=False)\n",
        "for topic in topics:\n",
        "    print(f'Topic {topic[0]}: {[word[0] for word in topic[1]]}')\n"
      ]
    },
    {
      "cell_type": "code",
      "source": [
        "# Visualize the topics\n",
        "!pip install pyLDAvis\n",
        "import pyLDAvis.gensim \n",
        "pyLDAvis.enable_notebook()\n",
        "vis = pyLDAvis.gensim.prepare(lda_model, corpus, dictionary)\n",
        "vis"
      ],
      "metadata": {
        "id": "AtEmGKj60I6g",
        "colab": {
          "base_uri": "https://localhost:8080/",
          "height": 1000
        },
        "outputId": "ac32b967-9eec-45f3-c20f-ab9cc0e9a18a"
      },
      "execution_count": null,
      "outputs": [
        {
          "output_type": "stream",
          "name": "stderr",
          "text": [
            "/usr/local/lib/python3.9/dist-packages/ipykernel/ipkernel.py:283: DeprecationWarning: `should_run_async` will not call `transform_cell` automatically in the future. Please pass the result to `transformed_cell` argument and any exception that happen during thetransform in `preprocessing_exc_tuple` in IPython 7.17 and above.\n",
            "  and should_run_async(code)\n"
          ]
        },
        {
          "output_type": "stream",
          "name": "stdout",
          "text": [
            "Looking in indexes: https://pypi.org/simple, https://us-python.pkg.dev/colab-wheels/public/simple/\n",
            "Requirement already satisfied: pyLDAvis in /usr/local/lib/python3.9/dist-packages (3.4.0)\n",
            "Requirement already satisfied: numexpr in /usr/local/lib/python3.9/dist-packages (from pyLDAvis) (2.8.4)\n",
            "Requirement already satisfied: scipy in /usr/local/lib/python3.9/dist-packages (from pyLDAvis) (1.10.1)\n",
            "Requirement already satisfied: funcy in /usr/local/lib/python3.9/dist-packages (from pyLDAvis) (2.0)\n",
            "Requirement already satisfied: scikit-learn>=1.0.0 in /usr/local/lib/python3.9/dist-packages (from pyLDAvis) (1.2.2)\n",
            "Requirement already satisfied: joblib>=1.2.0 in /usr/local/lib/python3.9/dist-packages (from pyLDAvis) (1.2.0)\n",
            "Requirement already satisfied: pandas>=1.3.4 in /usr/local/lib/python3.9/dist-packages (from pyLDAvis) (1.4.4)\n",
            "Requirement already satisfied: jinja2 in /usr/local/lib/python3.9/dist-packages (from pyLDAvis) (3.1.2)\n",
            "Requirement already satisfied: setuptools in /usr/local/lib/python3.9/dist-packages (from pyLDAvis) (67.6.1)\n",
            "Requirement already satisfied: numpy>=1.22.0 in /usr/local/lib/python3.9/dist-packages (from pyLDAvis) (1.22.4)\n",
            "Requirement already satisfied: gensim in /usr/local/lib/python3.9/dist-packages (from pyLDAvis) (4.3.1)\n",
            "Requirement already satisfied: python-dateutil>=2.8.1 in /usr/local/lib/python3.9/dist-packages (from pandas>=1.3.4->pyLDAvis) (2.8.2)\n",
            "Requirement already satisfied: pytz>=2020.1 in /usr/local/lib/python3.9/dist-packages (from pandas>=1.3.4->pyLDAvis) (2022.7.1)\n",
            "Requirement already satisfied: threadpoolctl>=2.0.0 in /usr/local/lib/python3.9/dist-packages (from scikit-learn>=1.0.0->pyLDAvis) (3.1.0)\n",
            "Requirement already satisfied: smart-open>=1.8.1 in /usr/local/lib/python3.9/dist-packages (from gensim->pyLDAvis) (6.3.0)\n",
            "Requirement already satisfied: MarkupSafe>=2.0 in /usr/local/lib/python3.9/dist-packages (from jinja2->pyLDAvis) (2.1.2)\n",
            "Requirement already satisfied: six>=1.5 in /usr/local/lib/python3.9/dist-packages (from python-dateutil>=2.8.1->pandas>=1.3.4->pyLDAvis) (1.16.0)\n"
          ]
        },
        {
          "output_type": "stream",
          "name": "stderr",
          "text": [
            "/usr/local/lib/python3.9/dist-packages/pyLDAvis/_prepare.py:243: FutureWarning: In a future version of pandas all arguments of DataFrame.drop except for the argument 'labels' will be keyword-only.\n",
            "  default_term_info = default_term_info.sort_values(\n"
          ]
        },
        {
          "output_type": "execute_result",
          "data": {
            "text/plain": [
              "PreparedData(topic_coordinates=              x         y  topics  cluster       Freq\n",
              "topic                                                \n",
              "8     -0.180775  0.062658       1        1  37.278360\n",
              "0      0.134451  0.138321       2        1  29.670048\n",
              "4      0.040819 -0.154933       3        1  16.649939\n",
              "3      0.014991 -0.061202       4        1  13.236297\n",
              "5     -0.001897  0.003031       5        1   0.633077\n",
              "1     -0.001897  0.003031       6        1   0.633075\n",
              "2     -0.001897  0.003031       7        1   0.633071\n",
              "6     -0.001897  0.003031       8        1   0.633070\n",
              "7     -0.001897  0.003031       9        1   0.633064, topic_info=         Term      Freq     Total Category  logprob  loglift\n",
              "5   recommend  1.000000  1.000000  Default  28.0000  28.0000\n",
              "26       town  1.000000  1.000000  Default  27.0000  27.0000\n",
              "20  delicious  1.000000  1.000000  Default  26.0000  26.0000\n",
              "23  perfectly  1.000000  1.000000  Default  25.0000  25.0000\n",
              "24      place  1.000000  1.000000  Default  24.0000  24.0000\n",
              "..        ...       ...       ...      ...      ...      ...\n",
              "22     highly  0.006557  1.089089   Topic9  -3.3322  -0.0503\n",
              "19      crust  0.006557  1.089089   Topic9  -3.3322  -0.0503\n",
              "27      tried  0.006557  1.089089   Topic9  -3.3322  -0.0503\n",
              "25   toppings  0.006557  1.089089   Topic9  -3.3322  -0.0503\n",
              "5   recommend  0.006557  1.799521   Topic9  -3.3322  -0.5524\n",
              "\n",
              "[280 rows x 6 columns], token_table=      Topic      Freq       Term\n",
              "term                            \n",
              "13        3  1.089017     always\n",
              "0         2  0.967673   analysis\n",
              "4         2  0.967673     anyone\n",
              "14        3  1.089017      brand\n",
              "1         2  0.967673     course\n",
              "18        1  0.918199     crispy\n",
              "19        1  0.918199      crust\n",
              "20        1  0.918199  delicious\n",
              "9         4  1.159071       food\n",
              "21        1  0.918199      fresh\n",
              "2         2  0.967673      great\n",
              "22        1  0.918199     highly\n",
              "15        3  1.089017       love\n",
              "10        4  1.159071    nothing\n",
              "11        4  1.159071       okay\n",
              "23        1  0.918199  perfectly\n",
              "24        1  0.918199      place\n",
              "16        3  1.089017   products\n",
              "17        3  1.089017    quality\n",
              "5         1  0.555703  recommend\n",
              "5         2  0.555703  recommend\n",
              "6         2  0.967673    service\n",
              "12        4  1.159071    special\n",
              "7         2  0.967673   terrible\n",
              "3         2  0.967673       text\n",
              "25        1  0.918199   toppings\n",
              "26        1  0.918199       town\n",
              "27        1  0.918199      tried\n",
              "8         2  0.967673      would, R=28, lambda_step=0.01, plot_opts={'xlab': 'PC1', 'ylab': 'PC2'}, topic_order=[9, 1, 5, 4, 6, 2, 3, 7, 8])"
            ],
            "text/html": [
              "\n",
              "<link rel=\"stylesheet\" type=\"text/css\" href=\"https://cdn.jsdelivr.net/gh/bmabey/pyLDAvis@3.4.0/pyLDAvis/js/ldavis.v1.0.0.css\">\n",
              "\n",
              "\n",
              "<div id=\"ldavis_el1931403540531338081107553852\" style=\"background-color:white;\"></div>\n",
              "<script type=\"text/javascript\">\n",
              "\n",
              "var ldavis_el1931403540531338081107553852_data = {\"mdsDat\": {\"x\": [-0.18077501873301194, 0.1344507043577158, 0.04081882139709038, 0.014990519452645434, -0.0018970037813429057, -0.0018970051237397693, -0.0018970038952750541, -0.0018970041392492097, -0.001897009534833275], \"y\": [0.06265796683711915, 0.13832124084435735, -0.15493314595893645, -0.0612022398406639, 0.0030312273560186742, 0.003031239723951441, 0.003031227957856365, 0.003031241519135936, 0.003031241561161493], \"topics\": [1, 2, 3, 4, 5, 6, 7, 8, 9], \"cluster\": [1, 1, 1, 1, 1, 1, 1, 1, 1], \"Freq\": [37.27835959033406, 29.670047845025948, 16.649939162391686, 13.236296860342048, 0.6330766589896659, 0.6330745562882321, 0.6330714588380099, 0.6330695528383138, 0.6330643149520385]}, \"tinfo\": {\"Term\": [\"recommend\", \"town\", \"delicious\", \"perfectly\", \"place\", \"toppings\", \"crispy\", \"crust\", \"highly\", \"fresh\", \"tried\", \"great\", \"analysis\", \"terrible\", \"course\", \"would\", \"service\", \"text\", \"anyone\", \"brand\", \"love\", \"quality\", \"always\", \"products\", \"food\", \"special\", \"okay\", \"nothing\", \"place\", \"fresh\", \"toppings\", \"tried\", \"highly\", \"crust\", \"town\", \"perfectly\", \"crispy\", \"delicious\", \"recommend\", \"okay\", \"food\", \"nothing\", \"special\", \"always\", \"brand\", \"products\", \"love\", \"quality\", \"text\", \"great\", \"course\", \"terrible\", \"would\", \"service\", \"analysis\", \"anyone\", \"anyone\", \"would\", \"terrible\", \"service\", \"analysis\", \"course\", \"great\", \"text\", \"recommend\", \"okay\", \"special\", \"nothing\", \"food\", \"products\", \"always\", \"brand\", \"love\", \"quality\", \"delicious\", \"perfectly\", \"crispy\", \"town\", \"place\", \"fresh\", \"toppings\", \"tried\", \"crust\", \"highly\", \"quality\", \"love\", \"brand\", \"products\", \"always\", \"okay\", \"food\", \"nothing\", \"special\", \"course\", \"great\", \"text\", \"analysis\", \"service\", \"would\", \"terrible\", \"anyone\", \"delicious\", \"crispy\", \"highly\", \"crust\", \"toppings\", \"town\", \"tried\", \"perfectly\", \"fresh\", \"place\", \"recommend\", \"nothing\", \"food\", \"special\", \"okay\", \"products\", \"always\", \"love\", \"brand\", \"quality\", \"text\", \"analysis\", \"service\", \"course\", \"great\", \"terrible\", \"would\", \"anyone\", \"delicious\", \"perfectly\", \"crispy\", \"town\", \"place\", \"fresh\", \"tried\", \"highly\", \"crust\", \"toppings\", \"recommend\", \"okay\", \"special\", \"food\", \"nothing\", \"brand\", \"products\", \"always\", \"love\", \"quality\", \"text\", \"course\", \"analysis\", \"service\", \"great\", \"terrible\", \"would\", \"anyone\", \"delicious\", \"town\", \"highly\", \"toppings\", \"perfectly\", \"place\", \"fresh\", \"tried\", \"crust\", \"crispy\", \"recommend\", \"okay\", \"food\", \"nothing\", \"special\", \"always\", \"brand\", \"products\", \"love\", \"quality\", \"course\", \"great\", \"text\", \"analysis\", \"service\", \"terrible\", \"would\", \"anyone\", \"delicious\", \"town\", \"crispy\", \"tried\", \"perfectly\", \"place\", \"fresh\", \"toppings\", \"crust\", \"highly\", \"recommend\", \"okay\", \"food\", \"special\", \"nothing\", \"always\", \"products\", \"brand\", \"love\", \"quality\", \"great\", \"text\", \"course\", \"analysis\", \"service\", \"terrible\", \"would\", \"anyone\", \"delicious\", \"crispy\", \"perfectly\", \"toppings\", \"town\", \"place\", \"fresh\", \"tried\", \"highly\", \"crust\", \"recommend\", \"okay\", \"food\", \"nothing\", \"special\", \"products\", \"brand\", \"always\", \"love\", \"quality\", \"analysis\", \"text\", \"great\", \"course\", \"would\", \"terrible\", \"service\", \"anyone\", \"delicious\", \"perfectly\", \"crispy\", \"crust\", \"town\", \"place\", \"toppings\", \"fresh\", \"tried\", \"highly\", \"recommend\", \"okay\", \"special\", \"nothing\", \"food\", \"products\", \"brand\", \"always\", \"love\", \"quality\", \"great\", \"analysis\", \"course\", \"text\", \"service\", \"terrible\", \"anyone\", \"would\", \"delicious\", \"town\", \"perfectly\", \"place\", \"crispy\", \"fresh\", \"highly\", \"crust\", \"tried\", \"toppings\", \"recommend\"], \"Freq\": [1.0, 1.0, 1.0, 1.0, 1.0, 1.0, 1.0, 1.0, 1.0, 1.0, 1.0, 1.0, 1.0, 1.0, 1.0, 1.0, 1.0, 1.0, 1.0, 0.0, 0.0, 0.0, 0.0, 0.0, 0.0, 0.0, 0.0, 0.0, 0.8512459173391088, 0.8512459173391088, 0.8512459173391088, 0.8512459173391088, 0.8512459173391088, 0.8512459173391088, 0.851245836792931, 0.851245836792931, 0.851245836792931, 0.8512455951543975, 0.8511428987776533, 0.08512503675154344, 0.0851249562053656, 0.08512493606882114, 0.08512493606882114, 0.08512494613709337, 0.08512493606882114, 0.08512492600054891, 0.08512493606882114, 0.08512489579573222, 0.08512502668327121, 0.08512498641018229, 0.0851249562053656, 0.08512496627363783, 0.0851249562053656, 0.08512492600054891, 0.08512491593227668, 0.08512490586400445, 0.7893774125019369, 0.7893773483947988, 0.7893772842876606, 0.7893771560733842, 0.7893770278591078, 0.7893769637519695, 0.7893769637519695, 0.7893768355376931, 0.7894730603521345, 0.07893817237069811, 0.07893813230373672, 0.0789381082635599, 0.07893809223677535, 0.07893809223677535, 0.07893809223677535, 0.07893809223677535, 0.07893810025016763, 0.07893806018320626, 0.07893806819659853, 0.07893804415642171, 0.07893804415642171, 0.07893803614302942, 0.07893802812963716, 0.07893802812963716, 0.07893802812963716, 0.07893802812963716, 0.07893802812963716, 0.07893802011624487, 0.6614353301298477, 0.6614351862298504, 0.6614351142798517, 0.6614350423298531, 0.6614350423298531, 0.06614379113360486, 0.06614380012735468, 0.06614379563047977, 0.06614378663672994, 0.06614381361797943, 0.06614381361797943, 0.06614380012735468, 0.06614378663672994, 0.06614378213985503, 0.06614375515860554, 0.06614374616485572, 0.0661437416679808, 0.06614372817735606, 0.06614372817735606, 0.06614372817735606, 0.06614372368048115, 0.06614371918360623, 0.06614371468673132, 0.06614371468673132, 0.0661437101898564, 0.0661437101898564, 0.06614370569298147, 0.0661437731461052, 0.5997689971487468, 0.5997689971487468, 0.5997689971487468, 0.599768711156248, 0.0599771456684236, 0.05997713136879866, 0.059977138518611126, 0.05997711706917372, 0.05997710276954878, 0.059977167117861004, 0.05997715996804853, 0.05997715281823607, 0.059977138518611126, 0.059977138518611126, 0.05997713136879866, 0.05997712421898619, 0.05997711706917372, 0.05997709561973632, 0.05997709561973632, 0.05997708846992385, 0.059977081320111376, 0.059977081320111376, 0.059977081320111376, 0.059977081320111376, 0.059977081320111376, 0.059977081320111376, 0.05997707417029891, 0.059977174267673475, 0.006556873642110106, 0.006556870222438095, 0.006556868170634889, 0.006556866802766084, 0.006556868854569291, 0.006556867486700486, 0.006556867486700486, 0.00655686543489728, 0.006556864067028476, 0.006556870222438095, 0.006556868854569291, 0.006556868854569291, 0.006556868854569291, 0.006556866802766084, 0.006556867486700486, 0.006556866118831682, 0.006556864067028476, 0.006556864750962878, 0.006556862015225269, 0.006556862015225269, 0.006556861331290867, 0.006556860647356465, 0.006556860647356465, 0.006556860647356465, 0.006556860647356465, 0.006556860647356465, 0.0065568599634220626, 0.006556869538503693, 0.00655684844444293, 0.006556847076578669, 0.006556846392646538, 0.006556846392646538, 0.006556845708714408, 0.006556845024782277, 0.006556844340850147, 0.006556843656918016, 0.006556842972985886, 0.006556849812307191, 0.00655684844444293, 0.006556847076578669, 0.006556846392646538, 0.006556847076578669, 0.006556845708714408, 0.006556843656918016, 0.006556842289053755, 0.006556840921189494, 0.0065568402372573635, 0.0065568402372573635, 0.0065568402372573635, 0.006556839553325233, 0.006556839553325233, 0.006556839553325233, 0.006556839553325233, 0.006556839553325233, 0.006556838869393102, 0.006556849128375061, 0.006556817731542443, 0.006556814995827306, 0.0065568129440409535, 0.006556812260112169, 0.0065568156797560905, 0.006556814311898522, 0.0065568129440409535, 0.0065568129440409535, 0.006556810208325816, 0.006556817047613659, 0.006556816363684875, 0.006556814995827306, 0.006556813627969738, 0.006556813627969738, 0.0065568129440409535, 0.0065568129440409535, 0.006556809524397032, 0.006556808840468248, 0.006556808840468248, 0.006556808156539464, 0.006556808156539464, 0.006556807472610679, 0.006556806788681895, 0.006556806788681895, 0.006556806788681895, 0.006556806788681895, 0.006556806788681895, 0.006556814995827306, 0.006556795939032483, 0.006556795939032483, 0.006556793887252307, 0.006556793203325582, 0.006556793887252307, 0.006556793203325582, 0.006556791835472132, 0.006556792519398857, 0.0065567904676186815, 0.006556797990812658, 0.006556797306885933, 0.006556795939032483, 0.006556793887252307, 0.006556794571179032, 0.006556793887252307, 0.006556793203325582, 0.006556791835472132, 0.006556789783691956, 0.006556789783691956, 0.006556789099765231, 0.006556788415838506, 0.006556787731911781, 0.006556787731911781, 0.006556787731911781, 0.006556787047985056, 0.006556787047985056, 0.006556787047985056, 0.006556794571179032, 0.006556743741224992, 0.006556741005540726, 0.00655674032161966, 0.006556739637698593, 0.006556739637698593, 0.006556738953777527, 0.00655673826985646, 0.006556738953777527, 0.0065567355341721945, 0.006556743741224992, 0.006556743057303926, 0.006556742373382859, 0.006556741689461793, 0.006556739637698593, 0.006556738953777527, 0.006556737585935394, 0.006556737585935394, 0.006556736218093261, 0.0065567355341721945, 0.006556734850251128, 0.006556734850251128, 0.0065567341663300615, 0.0065567341663300615, 0.0065567341663300615, 0.0065567341663300615, 0.006556733482408995, 0.006556732798487929, 0.006556741689461793], \"Total\": [1.0, 1.0, 1.0, 1.0, 1.0, 1.0, 1.0, 1.0, 1.0, 1.0, 1.0, 1.0, 1.0, 1.0, 1.0, 1.0, 1.0, 1.0, 1.0, 0.0, 0.0, 0.0, 0.0, 0.0, 0.0, 0.0, 0.0, 0.0, 1.0890887620533654, 1.0890887651823924, 1.0890887683942065, 1.0890887696792784, 1.0890887758404362, 1.0890887800408706, 1.0890887019339803, 1.0890887197501098, 1.0890887299038754, 1.0890885276624942, 1.7995209764669133, 0.8627597909104473, 0.8627599115380143, 0.8627598967760044, 0.8627599159260264, 0.91825927105302, 0.9182593186351176, 0.9182592659000008, 0.918259414576483, 0.9182594321284661, 1.0334069021252295, 1.0334069742738223, 1.0334069420172645, 1.0334071870754387, 1.0334072388546616, 1.033407079432166, 1.033406960319465, 1.0334072224049826, 1.0334072224049826, 1.0334072388546616, 1.0334071870754387, 1.033407079432166, 1.033406960319465, 1.0334069420172645, 1.0334069742738223, 1.0334069021252295, 1.7995209764669133, 0.8627597909104473, 0.8627599159260264, 0.8627598967760044, 0.8627599115380143, 0.9182592659000008, 0.91825927105302, 0.9182593186351176, 0.918259414576483, 0.9182594321284661, 1.0890885276624942, 1.0890887197501098, 1.0890887299038754, 1.0890887019339803, 1.0890887620533654, 1.0890887651823924, 1.0890887683942065, 1.0890887696792784, 1.0890887800408706, 1.0890887758404362, 0.9182594321284661, 0.918259414576483, 0.9182593186351176, 0.9182592659000008, 0.91825927105302, 0.8627597909104473, 0.8627599115380143, 0.8627598967760044, 0.8627599159260264, 1.0334069420172645, 1.0334069742738223, 1.0334069021252295, 1.033406960319465, 1.033407079432166, 1.0334072388546616, 1.0334071870754387, 1.0334072224049826, 1.0890885276624942, 1.0890887299038754, 1.0890887758404362, 1.0890887800408706, 1.0890887683942065, 1.0890887019339803, 1.0890887696792784, 1.0890887197501098, 1.0890887651823924, 1.0890887620533654, 1.7995209764669133, 0.8627598967760044, 0.8627599115380143, 0.8627599159260264, 0.8627597909104473, 0.9182592659000008, 0.91825927105302, 0.918259414576483, 0.9182593186351176, 0.9182594321284661, 1.0334069021252295, 1.033406960319465, 1.033407079432166, 1.0334069420172645, 1.0334069742738223, 1.0334071870754387, 1.0334072388546616, 1.0334072224049826, 1.0890885276624942, 1.0890887197501098, 1.0890887299038754, 1.0890887019339803, 1.0890887620533654, 1.0890887651823924, 1.0890887696792784, 1.0890887758404362, 1.0890887800408706, 1.0890887683942065, 1.7995209764669133, 0.8627597909104473, 0.8627599159260264, 0.8627599115380143, 0.8627598967760044, 0.9182593186351176, 0.9182592659000008, 0.91825927105302, 0.918259414576483, 0.9182594321284661, 1.0334069021252295, 1.0334069420172645, 1.033406960319465, 1.033407079432166, 1.0334069742738223, 1.0334071870754387, 1.0334072388546616, 1.0334072224049826, 1.0890885276624942, 1.0890887019339803, 1.0890887758404362, 1.0890887683942065, 1.0890887197501098, 1.0890887620533654, 1.0890887651823924, 1.0890887696792784, 1.0890887800408706, 1.0890887299038754, 1.7995209764669133, 0.8627597909104473, 0.8627599115380143, 0.8627598967760044, 0.8627599159260264, 0.91825927105302, 0.9182593186351176, 0.9182592659000008, 0.918259414576483, 0.9182594321284661, 1.0334069420172645, 1.0334069742738223, 1.0334069021252295, 1.033406960319465, 1.033407079432166, 1.0334071870754387, 1.0334072388546616, 1.0334072224049826, 1.0890885276624942, 1.0890887019339803, 1.0890887299038754, 1.0890887696792784, 1.0890887197501098, 1.0890887620533654, 1.0890887651823924, 1.0890887683942065, 1.0890887800408706, 1.0890887758404362, 1.7995209764669133, 0.8627597909104473, 0.8627599115380143, 0.8627599159260264, 0.8627598967760044, 0.91825927105302, 0.9182592659000008, 0.9182593186351176, 0.918259414576483, 0.9182594321284661, 1.0334069742738223, 1.0334069021252295, 1.0334069420172645, 1.033406960319465, 1.033407079432166, 1.0334071870754387, 1.0334072388546616, 1.0334072224049826, 1.0890885276624942, 1.0890887299038754, 1.0890887197501098, 1.0890887683942065, 1.0890887019339803, 1.0890887620533654, 1.0890887651823924, 1.0890887696792784, 1.0890887758404362, 1.0890887800408706, 1.7995209764669133, 0.8627597909104473, 0.8627599115380143, 0.8627598967760044, 0.8627599159260264, 0.9182592659000008, 0.9182593186351176, 0.91825927105302, 0.918259414576483, 0.9182594321284661, 1.033406960319465, 1.0334069021252295, 1.0334069742738223, 1.0334069420172645, 1.0334072388546616, 1.0334071870754387, 1.033407079432166, 1.0334072224049826, 1.0890885276624942, 1.0890887197501098, 1.0890887299038754, 1.0890887800408706, 1.0890887019339803, 1.0890887620533654, 1.0890887683942065, 1.0890887651823924, 1.0890887696792784, 1.0890887758404362, 1.7995209764669133, 0.8627597909104473, 0.8627599159260264, 0.8627598967760044, 0.8627599115380143, 0.9182592659000008, 0.9182593186351176, 0.91825927105302, 0.918259414576483, 0.9182594321284661, 1.0334069742738223, 1.033406960319465, 1.0334069420172645, 1.0334069021252295, 1.033407079432166, 1.0334071870754387, 1.0334072224049826, 1.0334072388546616, 1.0890885276624942, 1.0890887019339803, 1.0890887197501098, 1.0890887620533654, 1.0890887299038754, 1.0890887651823924, 1.0890887758404362, 1.0890887800408706, 1.0890887696792784, 1.0890887683942065, 1.7995209764669133], \"Category\": [\"Default\", \"Default\", \"Default\", \"Default\", \"Default\", \"Default\", \"Default\", \"Default\", \"Default\", \"Default\", \"Default\", \"Default\", \"Default\", \"Default\", \"Default\", \"Default\", \"Default\", \"Default\", \"Default\", \"Default\", \"Default\", \"Default\", \"Default\", \"Default\", \"Default\", \"Default\", \"Default\", \"Default\", \"Topic1\", \"Topic1\", \"Topic1\", \"Topic1\", \"Topic1\", \"Topic1\", \"Topic1\", \"Topic1\", \"Topic1\", \"Topic1\", \"Topic1\", \"Topic1\", \"Topic1\", \"Topic1\", \"Topic1\", \"Topic1\", \"Topic1\", \"Topic1\", \"Topic1\", \"Topic1\", \"Topic1\", \"Topic1\", \"Topic1\", \"Topic1\", \"Topic1\", \"Topic1\", \"Topic1\", \"Topic1\", \"Topic2\", \"Topic2\", \"Topic2\", \"Topic2\", \"Topic2\", \"Topic2\", \"Topic2\", \"Topic2\", \"Topic2\", \"Topic2\", \"Topic2\", \"Topic2\", \"Topic2\", \"Topic2\", \"Topic2\", \"Topic2\", \"Topic2\", \"Topic2\", \"Topic2\", \"Topic2\", \"Topic2\", \"Topic2\", \"Topic2\", \"Topic2\", \"Topic2\", \"Topic2\", \"Topic2\", \"Topic2\", \"Topic3\", \"Topic3\", \"Topic3\", \"Topic3\", \"Topic3\", \"Topic3\", \"Topic3\", \"Topic3\", \"Topic3\", \"Topic3\", \"Topic3\", \"Topic3\", \"Topic3\", \"Topic3\", \"Topic3\", \"Topic3\", \"Topic3\", \"Topic3\", \"Topic3\", \"Topic3\", \"Topic3\", \"Topic3\", \"Topic3\", \"Topic3\", \"Topic3\", \"Topic3\", \"Topic3\", \"Topic3\", \"Topic4\", \"Topic4\", \"Topic4\", \"Topic4\", \"Topic4\", \"Topic4\", \"Topic4\", \"Topic4\", \"Topic4\", \"Topic4\", \"Topic4\", \"Topic4\", \"Topic4\", \"Topic4\", \"Topic4\", \"Topic4\", \"Topic4\", \"Topic4\", \"Topic4\", \"Topic4\", \"Topic4\", \"Topic4\", \"Topic4\", \"Topic4\", \"Topic4\", \"Topic4\", \"Topic4\", \"Topic4\", \"Topic5\", \"Topic5\", \"Topic5\", \"Topic5\", \"Topic5\", \"Topic5\", \"Topic5\", \"Topic5\", \"Topic5\", \"Topic5\", \"Topic5\", \"Topic5\", \"Topic5\", \"Topic5\", \"Topic5\", \"Topic5\", \"Topic5\", \"Topic5\", \"Topic5\", \"Topic5\", \"Topic5\", \"Topic5\", \"Topic5\", \"Topic5\", \"Topic5\", \"Topic5\", \"Topic5\", \"Topic5\", \"Topic6\", \"Topic6\", \"Topic6\", \"Topic6\", \"Topic6\", \"Topic6\", \"Topic6\", \"Topic6\", \"Topic6\", \"Topic6\", \"Topic6\", \"Topic6\", \"Topic6\", \"Topic6\", \"Topic6\", \"Topic6\", \"Topic6\", \"Topic6\", \"Topic6\", \"Topic6\", \"Topic6\", \"Topic6\", \"Topic6\", \"Topic6\", \"Topic6\", \"Topic6\", \"Topic6\", \"Topic6\", \"Topic7\", \"Topic7\", \"Topic7\", \"Topic7\", \"Topic7\", \"Topic7\", \"Topic7\", \"Topic7\", \"Topic7\", \"Topic7\", \"Topic7\", \"Topic7\", \"Topic7\", \"Topic7\", \"Topic7\", \"Topic7\", \"Topic7\", \"Topic7\", \"Topic7\", \"Topic7\", \"Topic7\", \"Topic7\", \"Topic7\", \"Topic7\", \"Topic7\", \"Topic7\", \"Topic7\", \"Topic7\", \"Topic8\", \"Topic8\", \"Topic8\", \"Topic8\", \"Topic8\", \"Topic8\", \"Topic8\", \"Topic8\", \"Topic8\", \"Topic8\", \"Topic8\", \"Topic8\", \"Topic8\", \"Topic8\", \"Topic8\", \"Topic8\", \"Topic8\", \"Topic8\", \"Topic8\", \"Topic8\", \"Topic8\", \"Topic8\", \"Topic8\", \"Topic8\", \"Topic8\", \"Topic8\", \"Topic8\", \"Topic8\", \"Topic9\", \"Topic9\", \"Topic9\", \"Topic9\", \"Topic9\", \"Topic9\", \"Topic9\", \"Topic9\", \"Topic9\", \"Topic9\", \"Topic9\", \"Topic9\", \"Topic9\", \"Topic9\", \"Topic9\", \"Topic9\", \"Topic9\", \"Topic9\", \"Topic9\", \"Topic9\", \"Topic9\", \"Topic9\", \"Topic9\", \"Topic9\", \"Topic9\", \"Topic9\", \"Topic9\", \"Topic9\"], \"logprob\": [28.0, 27.0, 26.0, 25.0, 24.0, 23.0, 22.0, 21.0, 20.0, 19.0, 18.0, 17.0, 16.0, 15.0, 14.0, 13.0, 12.0, 11.0, 10.0, 9.0, 8.0, 7.0, 6.0, 5.0, 4.0, 3.0, 2.0, 1.0, -2.5416, -2.5416, -2.5416, -2.5416, -2.5416, -2.5416, -2.5416, -2.5416, -2.5416, -2.5416, -2.5417, -4.8442, -4.8442, -4.8442, -4.8442, -4.8442, -4.8442, -4.8442, -4.8442, -4.8442, -4.8442, -4.8442, -4.8442, -4.8442, -4.8442, -4.8442, -4.8442, -4.8442, -2.3888, -2.3888, -2.3888, -2.3888, -2.3888, -2.3888, -2.3888, -2.3888, -2.3887, -4.6914, -4.6914, -4.6914, -4.6914, -4.6914, -4.6914, -4.6914, -4.6914, -4.6914, -4.6914, -4.6914, -4.6914, -4.6914, -4.6914, -4.6914, -4.6914, -4.6914, -4.6914, -4.6914, -1.9879, -1.9879, -1.9879, -1.9879, -1.9879, -4.2905, -4.2905, -4.2905, -4.2905, -4.2905, -4.2905, -4.2905, -4.2905, -4.2905, -4.2905, -4.2905, -4.2905, -4.2905, -4.2905, -4.2905, -4.2905, -4.2905, -4.2905, -4.2905, -4.2905, -4.2905, -4.2905, -4.2905, -1.8563, -1.8563, -1.8563, -1.8563, -4.1589, -4.1589, -4.1589, -4.1589, -4.1589, -4.1589, -4.1589, -4.1589, -4.1589, -4.1589, -4.1589, -4.1589, -4.1589, -4.1589, -4.1589, -4.1589, -4.1589, -4.1589, -4.1589, -4.1589, -4.1589, -4.1589, -4.1589, -4.1589, -3.3322, -3.3322, -3.3322, -3.3322, -3.3322, -3.3322, -3.3322, -3.3322, -3.3322, -3.3322, -3.3322, -3.3322, -3.3322, -3.3322, -3.3322, -3.3322, -3.3322, -3.3322, -3.3322, -3.3322, -3.3322, -3.3322, -3.3322, -3.3322, -3.3322, -3.3322, -3.3322, -3.3322, -3.3322, -3.3322, -3.3322, -3.3322, -3.3322, -3.3322, -3.3322, -3.3322, -3.3322, -3.3322, -3.3322, -3.3322, -3.3322, -3.3322, -3.3322, -3.3322, -3.3322, -3.3322, -3.3322, -3.3322, -3.3322, -3.3322, -3.3322, -3.3322, -3.3322, -3.3322, -3.3322, -3.3322, -3.3322, -3.3322, -3.3322, -3.3322, -3.3322, -3.3322, -3.3322, -3.3322, -3.3322, -3.3322, -3.3322, -3.3322, -3.3322, -3.3322, -3.3322, -3.3322, -3.3322, -3.3322, -3.3322, -3.3322, -3.3322, -3.3322, -3.3322, -3.3322, -3.3322, -3.3322, -3.3322, -3.3322, -3.3322, -3.3322, -3.3322, -3.3322, -3.3322, -3.3322, -3.3322, -3.3322, -3.3322, -3.3322, -3.3322, -3.3322, -3.3322, -3.3322, -3.3322, -3.3322, -3.3322, -3.3322, -3.3322, -3.3322, -3.3322, -3.3322, -3.3322, -3.3322, -3.3322, -3.3322, -3.3322, -3.3322, -3.3322, -3.3322, -3.3322, -3.3322, -3.3322, -3.3322, -3.3322, -3.3322, -3.3322, -3.3322, -3.3322, -3.3322, -3.3322, -3.3322, -3.3322, -3.3322, -3.3322, -3.3322, -3.3322, -3.3322, -3.3322, -3.3322, -3.3322, -3.3322, -3.3322, -3.3322, -3.3322, -3.3322], \"loglift\": [28.0, 27.0, 26.0, 25.0, 24.0, 23.0, 22.0, 21.0, 20.0, 19.0, 18.0, 17.0, 16.0, 15.0, 14.0, 13.0, 12.0, 11.0, 10.0, 9.0, 8.0, 7.0, 6.0, 5.0, 4.0, 3.0, 2.0, 1.0, 0.7404, 0.7404, 0.7404, 0.7404, 0.7404, 0.7404, 0.7404, 0.7404, 0.7404, 0.7404, 0.2381, -1.3293, -1.3293, -1.3293, -1.3293, -1.3916, -1.3916, -1.3916, -1.3916, -1.3916, -1.5097, -1.5097, -1.5097, -1.5097, -1.5097, -1.5097, -1.5097, -1.5097, 0.9457, 0.9457, 0.9457, 0.9457, 0.9457, 0.9457, 0.9457, 0.9457, 0.3911, -1.1764, -1.1764, -1.1764, -1.1764, -1.2388, -1.2388, -1.2388, -1.2388, -1.2388, -1.4094, -1.4094, -1.4094, -1.4094, -1.4094, -1.4094, -1.4094, -1.4094, -1.4094, -1.4094, 1.4647, 1.4647, 1.4647, 1.4647, 1.4647, -0.7755, -0.7755, -0.7755, -0.7755, -0.956, -0.956, -0.956, -0.956, -0.956, -0.956, -0.956, -0.956, -1.0085, -1.0085, -1.0085, -1.0085, -1.0085, -1.0085, -1.0085, -1.0085, -1.0085, -1.0085, -1.5107, 1.6586, 1.6586, 1.6586, 1.6586, -0.7063, -0.7063, -0.7063, -0.7063, -0.7063, -0.8244, -0.8244, -0.8244, -0.8244, -0.8244, -0.8244, -0.8244, -0.8244, -0.8769, -0.8769, -0.8769, -0.8769, -0.8769, -0.8769, -0.8769, -0.8769, -0.8769, -0.8769, -1.3791, 0.1827, 0.1827, 0.1827, 0.1827, 0.1204, 0.1204, 0.1204, 0.1204, 0.1204, 0.0022, 0.0022, 0.0022, 0.0022, 0.0022, 0.0022, 0.0022, 0.0022, -0.0502, -0.0503, -0.0503, -0.0503, -0.0503, -0.0503, -0.0503, -0.0503, -0.0503, -0.0503, -0.5524, 0.1827, 0.1827, 0.1827, 0.1827, 0.1204, 0.1204, 0.1204, 0.1204, 0.1204, 0.0022, 0.0022, 0.0022, 0.0022, 0.0022, 0.0022, 0.0022, 0.0022, -0.0503, -0.0503, -0.0503, -0.0503, -0.0503, -0.0503, -0.0503, -0.0503, -0.0503, -0.0503, -0.5524, 0.1827, 0.1827, 0.1827, 0.1827, 0.1204, 0.1204, 0.1204, 0.1204, 0.1204, 0.0022, 0.0022, 0.0022, 0.0022, 0.0022, 0.0022, 0.0022, 0.0022, -0.0503, -0.0503, -0.0503, -0.0503, -0.0503, -0.0503, -0.0503, -0.0503, -0.0503, -0.0503, -0.5524, 0.1827, 0.1827, 0.1827, 0.1827, 0.1204, 0.1204, 0.1204, 0.1204, 0.1204, 0.0022, 0.0022, 0.0022, 0.0022, 0.0022, 0.0022, 0.0022, 0.0022, -0.0503, -0.0503, -0.0503, -0.0503, -0.0503, -0.0503, -0.0503, -0.0503, -0.0503, -0.0503, -0.5524, 0.1827, 0.1827, 0.1827, 0.1827, 0.1204, 0.1204, 0.1204, 0.1204, 0.1204, 0.0022, 0.0022, 0.0022, 0.0022, 0.0022, 0.0022, 0.0022, 0.0022, -0.0503, -0.0503, -0.0503, -0.0503, -0.0503, -0.0503, -0.0503, -0.0503, -0.0503, -0.0503, -0.5524]}, \"token.table\": {\"Topic\": [3, 2, 2, 3, 2, 1, 1, 1, 4, 1, 2, 1, 3, 4, 4, 1, 1, 3, 3, 1, 2, 2, 4, 2, 2, 1, 1, 1, 2], \"Freq\": [1.0890170472803866, 0.9676729869236242, 0.967672741509164, 1.089016990850014, 0.9676730040616407, 0.9181988322368018, 0.9181987899668498, 0.9181990027443366, 1.1590710076194108, 0.9181988024938698, 0.9676729738568898, 0.9181987935081899, 1.0890168770675956, 1.1590710274513685, 1.1590711696760077, 0.9181988407973309, 0.9181988051319182, 1.0890170533916517, 1.0890168562516853, 0.5557034416811014, 0.5557034416811014, 0.9676728753875748, 1.1590710017243553, 0.9676727745914158, 0.9676730414161864, 0.9181987997860245, 0.9181988558179159, 0.9181987987025945, 0.9676727261058407], \"Term\": [\"always\", \"analysis\", \"anyone\", \"brand\", \"course\", \"crispy\", \"crust\", \"delicious\", \"food\", \"fresh\", \"great\", \"highly\", \"love\", \"nothing\", \"okay\", \"perfectly\", \"place\", \"products\", \"quality\", \"recommend\", \"recommend\", \"service\", \"special\", \"terrible\", \"text\", \"toppings\", \"town\", \"tried\", \"would\"]}, \"R\": 28, \"lambda.step\": 0.01, \"plot.opts\": {\"xlab\": \"PC1\", \"ylab\": \"PC2\"}, \"topic.order\": [9, 1, 5, 4, 6, 2, 3, 7, 8]};\n",
              "\n",
              "function LDAvis_load_lib(url, callback){\n",
              "  var s = document.createElement('script');\n",
              "  s.src = url;\n",
              "  s.async = true;\n",
              "  s.onreadystatechange = s.onload = callback;\n",
              "  s.onerror = function(){console.warn(\"failed to load library \" + url);};\n",
              "  document.getElementsByTagName(\"head\")[0].appendChild(s);\n",
              "}\n",
              "\n",
              "if(typeof(LDAvis) !== \"undefined\"){\n",
              "   // already loaded: just create the visualization\n",
              "   !function(LDAvis){\n",
              "       new LDAvis(\"#\" + \"ldavis_el1931403540531338081107553852\", ldavis_el1931403540531338081107553852_data);\n",
              "   }(LDAvis);\n",
              "}else if(typeof define === \"function\" && define.amd){\n",
              "   // require.js is available: use it to load d3/LDAvis\n",
              "   require.config({paths: {d3: \"https://d3js.org/d3.v5\"}});\n",
              "   require([\"d3\"], function(d3){\n",
              "      window.d3 = d3;\n",
              "      LDAvis_load_lib(\"https://cdn.jsdelivr.net/gh/bmabey/pyLDAvis@3.4.0/pyLDAvis/js/ldavis.v3.0.0.js\", function(){\n",
              "        new LDAvis(\"#\" + \"ldavis_el1931403540531338081107553852\", ldavis_el1931403540531338081107553852_data);\n",
              "      });\n",
              "    });\n",
              "}else{\n",
              "    // require.js not available: dynamically load d3 & LDAvis\n",
              "    LDAvis_load_lib(\"https://d3js.org/d3.v5.js\", function(){\n",
              "         LDAvis_load_lib(\"https://cdn.jsdelivr.net/gh/bmabey/pyLDAvis@3.4.0/pyLDAvis/js/ldavis.v3.0.0.js\", function(){\n",
              "                 new LDAvis(\"#\" + \"ldavis_el1931403540531338081107553852\", ldavis_el1931403540531338081107553852_data);\n",
              "            })\n",
              "         });\n",
              "}\n",
              "</script>"
            ]
          },
          "metadata": {},
          "execution_count": 6
        }
      ]
    },
    {
      "cell_type": "markdown",
      "metadata": {
        "id": "o54hMNurmGXs"
      },
      "source": [
        "## (2) (10 points) Generate K topics by using LSA, the number of topics K should be decided by the coherence score, then summarize what are the topics. You may refer the code here:\n",
        "\n",
        "https://www.datacamp.com/community/tutorials/discovering-hidden-topics-python"
      ]
    },
    {
      "cell_type": "code",
      "execution_count": null,
      "metadata": {
        "id": "TmejjBX2mGXt",
        "colab": {
          "base_uri": "https://localhost:8080/",
          "height": 1000
        },
        "outputId": "f7fad4e0-ab1d-424e-9518-d29206719f49"
      },
      "outputs": [
        {
          "output_type": "stream",
          "name": "stderr",
          "text": [
            "/usr/local/lib/python3.9/dist-packages/ipykernel/ipkernel.py:283: DeprecationWarning: `should_run_async` will not call `transform_cell` automatically in the future. Please pass the result to `transformed_cell` argument and any exception that happen during thetransform in `preprocessing_exc_tuple` in IPython 7.17 and above.\n",
            "  and should_run_async(code)\n",
            "/usr/local/lib/python3.9/dist-packages/gensim/models/lsimodel.py:963: DeprecationWarning: Please use `csc_matvecs` from the `scipy.sparse` namespace, the `scipy.sparse.sparsetools` namespace is deprecated.\n",
            "  sparsetools.csc_matvecs(\n",
            "/usr/local/lib/python3.9/dist-packages/gensim/models/lsimodel.py:963: DeprecationWarning: Please use `csc_matvecs` from the `scipy.sparse` namespace, the `scipy.sparse.sparsetools` namespace is deprecated.\n",
            "  sparsetools.csc_matvecs(\n"
          ]
        },
        {
          "output_type": "stream",
          "name": "stdout",
          "text": [
            "Number of Topics: 2 Coherence Score: 0.4090001705287295\n",
            "Number of Topics: 3 Coherence Score: 0.4138890479604931\n"
          ]
        },
        {
          "output_type": "stream",
          "name": "stderr",
          "text": [
            "/usr/local/lib/python3.9/dist-packages/gensim/models/lsimodel.py:963: DeprecationWarning: Please use `csc_matvecs` from the `scipy.sparse` namespace, the `scipy.sparse.sparsetools` namespace is deprecated.\n",
            "  sparsetools.csc_matvecs(\n",
            "/usr/local/lib/python3.9/dist-packages/gensim/models/lsimodel.py:963: DeprecationWarning: Please use `csc_matvecs` from the `scipy.sparse` namespace, the `scipy.sparse.sparsetools` namespace is deprecated.\n",
            "  sparsetools.csc_matvecs(\n"
          ]
        },
        {
          "output_type": "stream",
          "name": "stdout",
          "text": [
            "Number of Topics: 4 Coherence Score: 0.3981641678029278\n",
            "Number of Topics: 5 Coherence Score: 0.4327756819910043\n"
          ]
        },
        {
          "output_type": "stream",
          "name": "stderr",
          "text": [
            "/usr/local/lib/python3.9/dist-packages/gensim/models/lsimodel.py:963: DeprecationWarning: Please use `csc_matvecs` from the `scipy.sparse` namespace, the `scipy.sparse.sparsetools` namespace is deprecated.\n",
            "  sparsetools.csc_matvecs(\n",
            "/usr/local/lib/python3.9/dist-packages/gensim/models/lsimodel.py:963: DeprecationWarning: Please use `csc_matvecs` from the `scipy.sparse` namespace, the `scipy.sparse.sparsetools` namespace is deprecated.\n",
            "  sparsetools.csc_matvecs(\n"
          ]
        },
        {
          "output_type": "stream",
          "name": "stdout",
          "text": [
            "Number of Topics: 6 Coherence Score: 0.39282340630111356\n",
            "Number of Topics: 7 Coherence Score: 0.406593351604393\n"
          ]
        },
        {
          "output_type": "stream",
          "name": "stderr",
          "text": [
            "/usr/local/lib/python3.9/dist-packages/gensim/models/lsimodel.py:963: DeprecationWarning: Please use `csc_matvecs` from the `scipy.sparse` namespace, the `scipy.sparse.sparsetools` namespace is deprecated.\n",
            "  sparsetools.csc_matvecs(\n",
            "/usr/local/lib/python3.9/dist-packages/gensim/models/lsimodel.py:963: DeprecationWarning: Please use `csc_matvecs` from the `scipy.sparse` namespace, the `scipy.sparse.sparsetools` namespace is deprecated.\n",
            "  sparsetools.csc_matvecs(\n"
          ]
        },
        {
          "output_type": "stream",
          "name": "stdout",
          "text": [
            "Number of Topics: 8 Coherence Score: 0.39060711637104883\n",
            "Number of Topics: 9 Coherence Score: 0.39201609602098064\n",
            "Number of Topics: 10 Coherence Score: 0.41961518057480063\n"
          ]
        },
        {
          "output_type": "stream",
          "name": "stderr",
          "text": [
            "/usr/local/lib/python3.9/dist-packages/gensim/models/lsimodel.py:963: DeprecationWarning: Please use `csc_matvecs` from the `scipy.sparse` namespace, the `scipy.sparse.sparsetools` namespace is deprecated.\n",
            "  sparsetools.csc_matvecs(\n"
          ]
        },
        {
          "output_type": "display_data",
          "data": {
            "text/plain": [
              "<Figure size 640x480 with 1 Axes>"
            ],
            "image/png": "[encoded data removed]"
          },
          "metadata": {}
        },
        {
          "output_type": "stream",
          "name": "stdout",
          "text": [
            "Best number of topics: 5\n",
            "Topic: 0 \n",
            "Words: -0.507*\"new\" + -0.281*\"top\" + -0.279*\"recommend\" + -0.254*\"fresh\" + -0.254*\"delici\"\n",
            "\n",
            "Topic: 1 \n",
            "Words: 0.408*\"text\" + 0.408*\"analysi\" + 0.408*\"ti\" + 0.408*\"cours\" + 0.408*\"nlp\"\n",
            "\n",
            "Topic: 2 \n",
            "Words: 0.407*\"alway\" + 0.407*\"brand\" + 0.407*\"product\" + 0.407*\"qualiti\" + 0.407*\"love\"\n",
            "\n",
            "Topic: 3 \n",
            "Words: 0.447*\"servic\" + 0.447*\"anyon\" + 0.447*\"would\" + 0.447*\"terribl\" + 0.399*\"recommend\"\n",
            "\n",
            "Topic: 4 \n",
            "Words: -0.500*\"special\" + -0.500*\"food\" + -0.500*\"noth\" + -0.500*\"okay\" + 0.000*\"alway\"\n",
            "\n"
          ]
        },
        {
          "output_type": "stream",
          "name": "stderr",
          "text": [
            "/usr/local/lib/python3.9/dist-packages/gensim/models/lsimodel.py:963: DeprecationWarning: Please use `csc_matvecs` from the `scipy.sparse` namespace, the `scipy.sparse.sparsetools` namespace is deprecated.\n",
            "  sparsetools.csc_matvecs(\n"
          ]
        }
      ],
      "source": [
        "# Import modules\n",
        "import os.path\n",
        "from gensim import corpora\n",
        "from gensim.models import LsiModel\n",
        "from nltk.tokenize import RegexpTokenizer\n",
        "from nltk.corpus import stopwords\n",
        "from nltk.stem.porter import PorterStemmer\n",
        "from gensim.models.coherencemodel import CoherenceModel\n",
        "import matplotlib.pyplot as plt\n",
        "\n",
        "# Load data\n",
        "Sample_reviews = [    \"TI ❤️👍 NLP and text analysis! 😃 This is a great course. 👌\",    \n",
        "                  \"The service was terrible. I would not recommend it to anyone.\",    \n",
        "                  \"The food was okay. Nothing special.\",   \n",
        "                  \"I love this brand. Their products are always top quality.\",    \n",
        "                  \"I just tried the new 🍕 from that new place in town and it was 😋👌! The crust was perfectly crispy and the toppings were fresh and delicious. 🙌🏼 Highly recommend!\"]\n",
        "\n",
        "documents = Sample_reviews\n",
        "\n",
        "# Prepare data\n",
        "tokenizer = RegexpTokenizer(r'\\w+')\n",
        "en_stop = set(stopwords.words('english'))\n",
        "p_stemmer = PorterStemmer()\n",
        "\n",
        "texts = []\n",
        "\n",
        "for i in documents:\n",
        "    raw = i.lower()\n",
        "    tokens = tokenizer.tokenize(raw)\n",
        "    stopped_tokens = [token for token in tokens if token not in en_stop]\n",
        "    stemmed_tokens = [p_stemmer.stem(token) for token in stopped_tokens]\n",
        "    texts.append(stemmed_tokens)\n",
        "\n",
        "dictionary = corpora.Dictionary(texts)\n",
        "corpus = [dictionary.doc2bow(text) for text in texts]\n",
        "\n",
        "# Compute coherence score for each number of topics\n",
        "coherence_scores = []\n",
        "for num_topics in range(2, 11):\n",
        "    model = LsiModel(corpus=corpus, id2word=dictionary, num_topics=num_topics)\n",
        "    coherence_model = CoherenceModel(model=model, texts=texts, dictionary=dictionary, coherence='c_v')\n",
        "    coherence_score = coherence_model.get_coherence()\n",
        "    coherence_scores.append(coherence_score)\n",
        "    print(f\"Number of Topics: {num_topics} Coherence Score: {coherence_score}\")\n",
        "\n",
        "# Plot coherence score vs number of topics\n",
        "plt.plot(range(2, 11), coherence_scores)\n",
        "plt.xlabel(\"Number of Topics\")\n",
        "plt.ylabel(\"Coherence Score\")\n",
        "plt.show()\n",
        "\n",
        "# Choose number of topics with highest coherence score\n",
        "best_num_topics = range(2, 11)[coherence_scores.index(max(coherence_scores))]\n",
        "print(f\"Best number of topics: {best_num_topics}\")\n",
        "\n",
        "# Train LSA model with best number of topics\n",
        "lsamodel = LsiModel(corpus=corpus, num_topics=best_num_topics, id2word=dictionary)\n",
        "\n",
        "# Summarize topics\n",
        "for idx, topic in lsamodel.print_topics(num_words=5):\n",
        "    print(f'Topic: {idx} \\nWords: {topic}\\n')\n"
      ]
    },
    {
      "cell_type": "markdown",
      "metadata": {
        "id": "izgsjoy1mGXv"
      },
      "source": [
        "## (3) (10 points) Generate K topics by using  lda2vec, the number of topics K should be decided by the coherence score, then summarize what are the topics. You may refer the code here:\n",
        "\n",
        "https://nbviewer.org/github/cemoody/lda2vec/blob/master/examples/twenty_newsgroups/lda2vec/lda2vec.ipynb"
      ]
    },
    {
      "cell_type": "code",
      "source": [
        "import gensim\n",
        "from gensim.utils import simple_preprocess\n",
        "from gensim.models import CoherenceModel\n",
        "import numpy as np\n",
        "import pandas as pd\n",
        "import nltk\n",
        "nltk.download('stopwords')\n",
        "from nltk.corpus import stopwords\n",
        "!pip install Lda2Vec"
      ],
      "metadata": {
        "id": "_sXkS3wBFTTx"
      },
      "execution_count": null,
      "outputs": []
    },
    {
      "cell_type": "code",
      "source": [
        "\n",
        "Sample_reviews = [    \"TI ❤️👍 NLP and text analysis! 😃 This is a great course. 👌\",    \n",
        "                  \"The service was terrible. I would not recommend it to anyone.\",    \n",
        "                  \"The food was okay. Nothing special.\",   \n",
        "                  \"I love this brand. Their products are always top quality.\",    \n",
        "                  \"I just tried the new 🍕 from that new place in town and it was 😋👌! The crust was perfectly crispy and the toppings were fresh and delicious. 🙌🏼 Highly recommend!\"]\n",
        "\n",
        "# Preprocessing the data\n",
        "stop_words = stopwords.words('english')\n",
        "stop_words.extend(['from', 'subject', 're', 'edu', 'use'])\n",
        "\n",
        "def preprocess(text):\n",
        "    result = []\n",
        "    for token in simple_preprocess(text):\n",
        "        if token not in stop_words and len(token) > 3:\n",
        "            result.append(token)\n",
        "    return result\n",
        "\n",
        "processed_docs = [preprocess(doc) for doc in Sample_reviews]\n",
        "\n",
        "# Creating the dictionary and corpus\n",
        "dictionary = gensim.corpora.Dictionary(processed_docs)\n",
        "corpus = [dictionary.doc2bow(doc) for doc in processed_docs]"
      ],
      "metadata": {
        "id": "m9-tHYcrLPro"
      },
      "execution_count": null,
      "outputs": []
    },
    {
      "cell_type": "code",
      "source": [
        "# create an instance of the Lda2vec model\n",
        "model = lda2Vec(n_documents=len(processed_docs), n_words=len(dictionary.token2id), n_hidden=100, n_topics=10)\n",
        "\n",
        "# train the model and find the optimal number of topics using coherence score\n",
        "model.fit(corpus, m=10, batch_size=128, epochs=20)\n",
        "K = model.find_topics(corpus)\n",
        "\n",
        "\n",
        "# prepare the topics\n",
        "doc_weights = model.transform(corpus)\n",
        "prepared_topics = model.prepare_topics(K, corpus)\n",
        "top_words = []\n",
        "for topic in prepared_topics:\n",
        "    top_words.append([dictionary[i] for i, _ in topic])\n",
        "\n",
        "#print the topics\n",
        "for i, topic_words in enumerate(top_words):\n",
        "    print(f\"Topic {i+1}: {' '.join(topic_words)}\")"
      ],
      "metadata": {
        "id": "7DGO9vg2MFvV"
      },
      "execution_count": null,
      "outputs": []
    },
    {
      "cell_type": "markdown",
      "metadata": {
        "id": "qLBSPSGTmGX0"
      },
      "source": [
        "## (4) (10 points) Generate K topics by using BERTopic, the number of topics K should be decided by the coherence score, then summarize what are the topics. You may refer the code here: \n",
        "\n",
        "https://colab.research.google.com/drive/1FieRA9fLdkQEGDIMYl0I3MCjSUKVF8C-?usp=sharing"
      ]
    },
    {
      "cell_type": "code",
      "source": [
        "!pip install bertopic\n",
        "from bertopic import BERTopic\n"
      ],
      "metadata": {
        "id": "toPvMLH6_xJi"
      },
      "execution_count": null,
      "outputs": []
    },
    {
      "cell_type": "code",
      "source": [
        "import gensim\n",
        "from gensim.utils import simple_preprocess\n",
        "from gensim.models import CoherenceModel\n",
        "import numpy as np\n",
        "import pandas as pd\n",
        "import nltk\n",
        "nltk.download('stopwords')\n",
        "from nltk.corpus import stopwords\n",
        "from bertopic import BERTopic\n",
        "\n",
        "Sample_reviews = [    \"TI ❤️👍 NLP and text analysis! 😃 This is a great course. 👌\",    \n",
        "                  \"The service was terrible. I would not recommend it to anyone.\",    \n",
        "                  \"The food was okay. Nothing special.\",   \n",
        "                  \"I love this brand. Their products are always top quality.\",    \n",
        "                  \"I just tried the new 🍕 from that new place in town and it was 😋👌! The crust was perfectly crispy and the toppings were fresh and delicious. 🙌🏼 Highly recommend!\"]\n",
        "\n",
        "# Preprocessing the data\n",
        "stop_words = stopwords.words('english')\n",
        "stop_words.extend(['from', 'subject', 're', 'edu', 'use'])\n",
        "\n",
        "def preprocess(text):\n",
        "    result = []\n",
        "    for token in simple_preprocess(text):\n",
        "        if token not in stop_words and len(token) > 3:\n",
        "            result.append(token)\n",
        "    return result\n",
        "\n",
        "processed_docs = [preprocess(doc) for doc in Sample_reviews]\n",
        "\n",
        "# initialize BERTopic model\n",
        "model = BERTopic()\n",
        "\n",
        "# fit the model on corpus\n",
        "topics, _ = model.fit_transform(Sample_reviews)\n",
        "\n",
        "# get the number of topics with the highest coherence score\n",
        "top_n = 5\n",
        "best_topics = model.get_best_topics(n=top_n)\n",
        "\n",
        "# print the summaries of the top topics\n",
        "for topic_id in best_topics:\n",
        "    print(f\"Topic {topic_id}: {model.get_topic(topic_id)}\")\n"
      ],
      "metadata": {
        "id": "8fpSct_jAGPS"
      },
      "execution_count": null,
      "outputs": []
    },
    {
      "cell_type": "markdown",
      "metadata": {
        "id": "Uv7lIHEZmGX5"
      },
      "source": [
        "## (5) (10 extra points) Compare the results generated by the four topic modeling algorithms, which one is better? You should explain the reasons in details."
      ]
    },
    {
      "cell_type": "code",
      "execution_count": null,
      "metadata": {
        "id": "zj-tu1XEmGX6"
      },
      "outputs": [],
      "source": [
        "# Write your answer here (no code needed for this question)\n",
        "\n",
        "\n",
        "\n"
      ]
    }
  ],
  "metadata": {
    "kernelspec": {
      "display_name": "Python 3 (ipykernel)",
      "language": "python",
      "name": "python3"
    },
    "language_info": {
      "codemirror_mode": {
        "name": "ipython",
        "version": 3
      },
      "file_extension": ".py",
      "mimetype": "text/x-python",
      "name": "python",
      "nbconvert_exporter": "python",
      "pygments_lexer": "ipython3",
      "version": "3.9.12"
    },
    "colab": {
      "provenance": []
    },
    "accelerator": "GPU",
    "gpuClass": "standard"
  },
  "nbformat": 4,
  "nbformat_minor": 0
}